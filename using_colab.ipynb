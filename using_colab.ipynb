{
  "nbformat": 4,
  "nbformat_minor": 0,
  "metadata": {
    "colab": {
      "provenance": [],
      "authorship_tag": "ABX9TyO6GhF+0evhc83h/FRm/EHH",
      "include_colab_link": true
    },
    "kernelspec": {
      "name": "python3",
      "display_name": "Python 3"
    },
    "language_info": {
      "name": "python"
    }
  },
  "cells": [
    {
      "cell_type": "markdown",
      "metadata": {
        "id": "view-in-github",
        "colab_type": "text"
      },
      "source": [
        "<a href=\"https://colab.research.google.com/github/eleigh152/hello-world/blob/master/using_colab.ipynb\" target=\"_parent\"><img src=\"https://colab.research.google.com/assets/colab-badge.svg\" alt=\"Open In Colab\"/></a>"
      ]
    },
    {
      "cell_type": "code",
      "source": [
        "new=\"a\""
      ],
      "metadata": {
        "id": "EdDcYUe_M8AT"
      },
      "execution_count": 10,
      "outputs": []
    },
    {
      "cell_type": "code",
      "execution_count": 11,
      "metadata": {
        "colab": {
          "base_uri": "https://localhost:8080/"
        },
        "id": "OV3AY6sXJoEX",
        "outputId": "a54e4376-ea78-40e6-bc6d-114c588a36ca"
      },
      "outputs": [
        {
          "output_type": "execute_result",
          "data": {
            "text/plain": [
              "6"
            ]
          },
          "metadata": {},
          "execution_count": 11
        }
      ],
      "source": [
        "3*2"
      ]
    },
    {
      "cell_type": "code",
      "source": [
        "x=2\n",
        "x*3"
      ],
      "metadata": {
        "colab": {
          "base_uri": "https://localhost:8080/"
        },
        "id": "KkJreyThLHFf",
        "outputId": "a8aac985-538b-4d1f-c318-08b4bf6938ee"
      },
      "execution_count": 12,
      "outputs": [
        {
          "output_type": "execute_result",
          "data": {
            "text/plain": [
              "6"
            ]
          },
          "metadata": {},
          "execution_count": 12
        }
      ]
    },
    {
      "cell_type": "code",
      "source": [
        "!wget https://raw.githubusercontent.com/werowe/HypatiaAcademy/2ba9b570695adc01890213a34cd9836e5c2339e4/class/students.csv"
      ],
      "metadata": {
        "colab": {
          "base_uri": "https://localhost:8080/"
        },
        "id": "Sm4Bt6ULLt_X",
        "outputId": "4470e457-2789-4044-95c9-f47ab22d04b9"
      },
      "execution_count": 13,
      "outputs": [
        {
          "output_type": "stream",
          "name": "stdout",
          "text": [
            "--2025-08-17 04:05:30--  https://raw.githubusercontent.com/werowe/HypatiaAcademy/2ba9b570695adc01890213a34cd9836e5c2339e4/class/students.csv\n",
            "Resolving raw.githubusercontent.com (raw.githubusercontent.com)... 185.199.108.133, 185.199.109.133, 185.199.110.133, ...\n",
            "Connecting to raw.githubusercontent.com (raw.githubusercontent.com)|185.199.108.133|:443... connected.\n",
            "HTTP request sent, awaiting response... 200 OK\n",
            "Length: 167 [text/plain]\n",
            "Saving to: ‘students.csv.1’\n",
            "\n",
            "\rstudents.csv.1        0%[                    ]       0  --.-KB/s               \rstudents.csv.1      100%[===================>]     167  --.-KB/s    in 0s      \n",
            "\n",
            "2025-08-17 04:05:30 (2.40 MB/s) - ‘students.csv.1’ saved [167/167]\n",
            "\n"
          ]
        }
      ]
    },
    {
      "cell_type": "code",
      "source": [
        "!cat students.csv"
      ],
      "metadata": {
        "colab": {
          "base_uri": "https://localhost:8080/"
        },
        "id": "jpuDEry9Mx9V",
        "outputId": "42dfa844-c5bc-49bb-cd3e-1c79d97bc4b0"
      },
      "execution_count": 14,
      "outputs": [
        {
          "output_type": "stream",
          "name": "stdout",
          "text": [
            "studentNumber,name,city,gpa,isUkrainian,birthday\r\n",
            "1969,Walker,Konia,85.32,False,3/10/1983\r\n",
            "1755,Fred,Kiev,74.23,True,4/10/2004\r\n",
            "1725,Oscar,Prague,92.34,True,06/07/2032"
          ]
        }
      ]
    },
    {
      "cell_type": "code",
      "source": [
        "!pip install pandas"
      ],
      "metadata": {
        "colab": {
          "base_uri": "https://localhost:8080/"
        },
        "id": "a3qsTeR5M6IQ",
        "outputId": "1d42582f-7215-4fdc-e5c0-9e172b12dbb8"
      },
      "execution_count": 15,
      "outputs": [
        {
          "output_type": "stream",
          "name": "stdout",
          "text": [
            "Requirement already satisfied: pandas in /usr/local/lib/python3.11/dist-packages (2.2.2)\n",
            "Requirement already satisfied: numpy>=1.23.2 in /usr/local/lib/python3.11/dist-packages (from pandas) (2.0.2)\n",
            "Requirement already satisfied: python-dateutil>=2.8.2 in /usr/local/lib/python3.11/dist-packages (from pandas) (2.9.0.post0)\n",
            "Requirement already satisfied: pytz>=2020.1 in /usr/local/lib/python3.11/dist-packages (from pandas) (2025.2)\n",
            "Requirement already satisfied: tzdata>=2022.7 in /usr/local/lib/python3.11/dist-packages (from pandas) (2025.2)\n",
            "Requirement already satisfied: six>=1.5 in /usr/local/lib/python3.11/dist-packages (from python-dateutil>=2.8.2->pandas) (1.17.0)\n"
          ]
        }
      ]
    },
    {
      "cell_type": "markdown",
      "source": [
        "\n",
        "# What does Colab do\n",
        "\n",
        "* these are jupyter notebooks. lets you run python code in a web browser\n",
        "\n",
        "* jupyter does graphics\n",
        "\n",
        "* bash shell. ubuntu. mac, unix\n",
        "\n"
      ],
      "metadata": {
        "id": "HaVPGk9fLLxz"
      }
    }
  ]
}